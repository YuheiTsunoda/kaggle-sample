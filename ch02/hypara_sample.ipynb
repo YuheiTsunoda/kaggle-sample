{
 "cells": [
  {
   "cell_type": "markdown",
   "metadata": {
    "_cell_guid": "e12020f7-4f94-4ecc-9007-9b7a6e7458a6",
    "_uuid": "1fecb0980d8d422ec0f005c4bfd6225385c2c60f"
   },
   "source": [
    "This notebook is a sample code with Japanese comments.\n",
    "\n",
    "# ハイパーパラメータの調整"
   ]
  },
  {
   "cell_type": "code",
   "execution_count": 5,
   "metadata": {},
   "outputs": [],
   "source": [
    "import numpy as np\n",
    "import pandas as pd\n",
    "\n",
    "\n",
    "train = pd.read_csv('../input/titanic/train.csv')\n",
    "test = pd.read_csv('../input/titanic/test.csv')\n",
    "gender_submission = pd.read_csv('../input/titanic/gender_submission.csv')\n",
    "\n",
    "data = pd.concat([train, test], sort=False)\n",
    "\n",
    "data['Sex'].replace(['male', 'female'], [0, 1], inplace=True)\n",
    "data['Embarked'].fillna(('S'), inplace=True)\n",
    "data['Embarked'] = data['Embarked'].map({'S': 0, 'C': 1, 'Q': 2}).astype(int)\n",
    "data['Fare'].fillna(np.mean(data['Fare']), inplace=True)\n",
    "data['Age'].fillna(data['Age'].median(), inplace=True)\n",
    "data['FamilySize'] = data['Parch'] + data['SibSp'] + 1\n",
    "data['IsAlone'] = 0\n",
    "data.loc[data['FamilySize'] == 1, 'IsAlone'] = 1"
   ]
  },
  {
   "cell_type": "code",
   "execution_count": 6,
   "metadata": {},
   "outputs": [
    {
     "data": {
      "text/html": [
       "<div>\n",
       "<style scoped>\n",
       "    .dataframe tbody tr th:only-of-type {\n",
       "        vertical-align: middle;\n",
       "    }\n",
       "\n",
       "    .dataframe tbody tr th {\n",
       "        vertical-align: top;\n",
       "    }\n",
       "\n",
       "    .dataframe thead th {\n",
       "        text-align: right;\n",
       "    }\n",
       "</style>\n",
       "<table border=\"1\" class=\"dataframe\">\n",
       "  <thead>\n",
       "    <tr style=\"text-align: right;\">\n",
       "      <th></th>\n",
       "      <th>PassengerId</th>\n",
       "      <th>Survived</th>\n",
       "      <th>Pclass</th>\n",
       "      <th>Name</th>\n",
       "      <th>Sex</th>\n",
       "      <th>Age</th>\n",
       "      <th>SibSp</th>\n",
       "      <th>Parch</th>\n",
       "      <th>Ticket</th>\n",
       "      <th>Fare</th>\n",
       "      <th>Cabin</th>\n",
       "      <th>Embarked</th>\n",
       "      <th>FamilySize</th>\n",
       "      <th>IsAlone</th>\n",
       "    </tr>\n",
       "  </thead>\n",
       "  <tbody>\n",
       "    <tr>\n",
       "      <th>0</th>\n",
       "      <td>1</td>\n",
       "      <td>0.0</td>\n",
       "      <td>3</td>\n",
       "      <td>Braund, Mr. Owen Harris</td>\n",
       "      <td>0</td>\n",
       "      <td>22.0</td>\n",
       "      <td>1</td>\n",
       "      <td>0</td>\n",
       "      <td>A/5 21171</td>\n",
       "      <td>7.2500</td>\n",
       "      <td>NaN</td>\n",
       "      <td>0</td>\n",
       "      <td>2</td>\n",
       "      <td>0</td>\n",
       "    </tr>\n",
       "    <tr>\n",
       "      <th>1</th>\n",
       "      <td>2</td>\n",
       "      <td>1.0</td>\n",
       "      <td>1</td>\n",
       "      <td>Cumings, Mrs. John Bradley (Florence Briggs Th...</td>\n",
       "      <td>1</td>\n",
       "      <td>38.0</td>\n",
       "      <td>1</td>\n",
       "      <td>0</td>\n",
       "      <td>PC 17599</td>\n",
       "      <td>71.2833</td>\n",
       "      <td>C85</td>\n",
       "      <td>1</td>\n",
       "      <td>2</td>\n",
       "      <td>0</td>\n",
       "    </tr>\n",
       "    <tr>\n",
       "      <th>2</th>\n",
       "      <td>3</td>\n",
       "      <td>1.0</td>\n",
       "      <td>3</td>\n",
       "      <td>Heikkinen, Miss. Laina</td>\n",
       "      <td>1</td>\n",
       "      <td>26.0</td>\n",
       "      <td>0</td>\n",
       "      <td>0</td>\n",
       "      <td>STON/O2. 3101282</td>\n",
       "      <td>7.9250</td>\n",
       "      <td>NaN</td>\n",
       "      <td>0</td>\n",
       "      <td>1</td>\n",
       "      <td>1</td>\n",
       "    </tr>\n",
       "    <tr>\n",
       "      <th>3</th>\n",
       "      <td>4</td>\n",
       "      <td>1.0</td>\n",
       "      <td>1</td>\n",
       "      <td>Futrelle, Mrs. Jacques Heath (Lily May Peel)</td>\n",
       "      <td>1</td>\n",
       "      <td>35.0</td>\n",
       "      <td>1</td>\n",
       "      <td>0</td>\n",
       "      <td>113803</td>\n",
       "      <td>53.1000</td>\n",
       "      <td>C123</td>\n",
       "      <td>0</td>\n",
       "      <td>2</td>\n",
       "      <td>0</td>\n",
       "    </tr>\n",
       "    <tr>\n",
       "      <th>4</th>\n",
       "      <td>5</td>\n",
       "      <td>0.0</td>\n",
       "      <td>3</td>\n",
       "      <td>Allen, Mr. William Henry</td>\n",
       "      <td>0</td>\n",
       "      <td>35.0</td>\n",
       "      <td>0</td>\n",
       "      <td>0</td>\n",
       "      <td>373450</td>\n",
       "      <td>8.0500</td>\n",
       "      <td>NaN</td>\n",
       "      <td>0</td>\n",
       "      <td>1</td>\n",
       "      <td>1</td>\n",
       "    </tr>\n",
       "  </tbody>\n",
       "</table>\n",
       "</div>"
      ],
      "text/plain": [
       "   PassengerId  Survived  Pclass  \\\n",
       "0            1       0.0       3   \n",
       "1            2       1.0       1   \n",
       "2            3       1.0       3   \n",
       "3            4       1.0       1   \n",
       "4            5       0.0       3   \n",
       "\n",
       "                                                Name  Sex   Age  SibSp  Parch  \\\n",
       "0                            Braund, Mr. Owen Harris    0  22.0      1      0   \n",
       "1  Cumings, Mrs. John Bradley (Florence Briggs Th...    1  38.0      1      0   \n",
       "2                             Heikkinen, Miss. Laina    1  26.0      0      0   \n",
       "3       Futrelle, Mrs. Jacques Heath (Lily May Peel)    1  35.0      1      0   \n",
       "4                           Allen, Mr. William Henry    0  35.0      0      0   \n",
       "\n",
       "             Ticket     Fare Cabin  Embarked  FamilySize  IsAlone  \n",
       "0         A/5 21171   7.2500   NaN         0           2        0  \n",
       "1          PC 17599  71.2833   C85         1           2        0  \n",
       "2  STON/O2. 3101282   7.9250   NaN         0           1        1  \n",
       "3            113803  53.1000  C123         0           2        0  \n",
       "4            373450   8.0500   NaN         0           1        1  "
      ]
     },
     "execution_count": 6,
     "metadata": {},
     "output_type": "execute_result"
    }
   ],
   "source": [
    "data.head()"
   ]
  },
  {
   "cell_type": "code",
   "execution_count": 7,
   "metadata": {},
   "outputs": [],
   "source": [
    "delete_columns = ['Name', 'PassengerId', 'Ticket', 'Cabin']\n",
    "data.drop(delete_columns, axis=1, inplace=True)\n",
    "\n",
    "train = data[:len(train)]\n",
    "test = data[len(train):]\n",
    "\n",
    "y_train = train['Survived']\n",
    "X_train = train.drop('Survived', axis=1)\n",
    "X_test = test.drop('Survived', axis=1)"
   ]
  },
  {
   "cell_type": "code",
   "execution_count": 8,
   "metadata": {},
   "outputs": [
    {
     "data": {
      "text/html": [
       "<div>\n",
       "<style scoped>\n",
       "    .dataframe tbody tr th:only-of-type {\n",
       "        vertical-align: middle;\n",
       "    }\n",
       "\n",
       "    .dataframe tbody tr th {\n",
       "        vertical-align: top;\n",
       "    }\n",
       "\n",
       "    .dataframe thead th {\n",
       "        text-align: right;\n",
       "    }\n",
       "</style>\n",
       "<table border=\"1\" class=\"dataframe\">\n",
       "  <thead>\n",
       "    <tr style=\"text-align: right;\">\n",
       "      <th></th>\n",
       "      <th>Pclass</th>\n",
       "      <th>Sex</th>\n",
       "      <th>Age</th>\n",
       "      <th>SibSp</th>\n",
       "      <th>Parch</th>\n",
       "      <th>Fare</th>\n",
       "      <th>Embarked</th>\n",
       "      <th>FamilySize</th>\n",
       "      <th>IsAlone</th>\n",
       "    </tr>\n",
       "  </thead>\n",
       "  <tbody>\n",
       "    <tr>\n",
       "      <th>0</th>\n",
       "      <td>3</td>\n",
       "      <td>0</td>\n",
       "      <td>22.0</td>\n",
       "      <td>1</td>\n",
       "      <td>0</td>\n",
       "      <td>7.2500</td>\n",
       "      <td>0</td>\n",
       "      <td>2</td>\n",
       "      <td>0</td>\n",
       "    </tr>\n",
       "    <tr>\n",
       "      <th>1</th>\n",
       "      <td>1</td>\n",
       "      <td>1</td>\n",
       "      <td>38.0</td>\n",
       "      <td>1</td>\n",
       "      <td>0</td>\n",
       "      <td>71.2833</td>\n",
       "      <td>1</td>\n",
       "      <td>2</td>\n",
       "      <td>0</td>\n",
       "    </tr>\n",
       "    <tr>\n",
       "      <th>2</th>\n",
       "      <td>3</td>\n",
       "      <td>1</td>\n",
       "      <td>26.0</td>\n",
       "      <td>0</td>\n",
       "      <td>0</td>\n",
       "      <td>7.9250</td>\n",
       "      <td>0</td>\n",
       "      <td>1</td>\n",
       "      <td>1</td>\n",
       "    </tr>\n",
       "    <tr>\n",
       "      <th>3</th>\n",
       "      <td>1</td>\n",
       "      <td>1</td>\n",
       "      <td>35.0</td>\n",
       "      <td>1</td>\n",
       "      <td>0</td>\n",
       "      <td>53.1000</td>\n",
       "      <td>0</td>\n",
       "      <td>2</td>\n",
       "      <td>0</td>\n",
       "    </tr>\n",
       "    <tr>\n",
       "      <th>4</th>\n",
       "      <td>3</td>\n",
       "      <td>0</td>\n",
       "      <td>35.0</td>\n",
       "      <td>0</td>\n",
       "      <td>0</td>\n",
       "      <td>8.0500</td>\n",
       "      <td>0</td>\n",
       "      <td>1</td>\n",
       "      <td>1</td>\n",
       "    </tr>\n",
       "  </tbody>\n",
       "</table>\n",
       "</div>"
      ],
      "text/plain": [
       "   Pclass  Sex   Age  SibSp  Parch     Fare  Embarked  FamilySize  IsAlone\n",
       "0       3    0  22.0      1      0   7.2500         0           2        0\n",
       "1       1    1  38.0      1      0  71.2833         1           2        0\n",
       "2       3    1  26.0      0      0   7.9250         0           1        1\n",
       "3       1    1  35.0      1      0  53.1000         0           2        0\n",
       "4       3    0  35.0      0      0   8.0500         0           1        1"
      ]
     },
     "execution_count": 8,
     "metadata": {},
     "output_type": "execute_result"
    }
   ],
   "source": [
    "X_train.head()"
   ]
  },
  {
   "cell_type": "markdown",
   "metadata": {},
   "source": [
    "## LightGBM"
   ]
  },
  {
   "cell_type": "code",
   "execution_count": 9,
   "metadata": {},
   "outputs": [],
   "source": [
    "from sklearn.model_selection import train_test_split\n",
    "\n",
    "\n",
    "X_train, X_valid, y_train, y_valid = \\\n",
    "    train_test_split(X_train, y_train, test_size=0.3,\n",
    "                                 random_state=0, stratify=y_train)"
   ]
  },
  {
   "cell_type": "code",
   "execution_count": 10,
   "metadata": {},
   "outputs": [],
   "source": [
    "categorical_features = ['Embarked', 'Pclass', 'Sex']"
   ]
  },
  {
   "cell_type": "code",
   "execution_count": 16,
   "metadata": {},
   "outputs": [
    {
     "name": "stdout",
     "output_type": "stream",
     "text": [
      "Training until validation scores don't improve for 10 rounds\n",
      "[10]\ttraining's binary_logloss: 0.505699\tvalid_1's binary_logloss: 0.532106\n",
      "[20]\ttraining's binary_logloss: 0.427825\tvalid_1's binary_logloss: 0.482279\n",
      "[30]\ttraining's binary_logloss: 0.377242\tvalid_1's binary_logloss: 0.456641\n",
      "[40]\ttraining's binary_logloss: 0.345424\tvalid_1's binary_logloss: 0.447083\n",
      "[50]\ttraining's binary_logloss: 0.323113\tvalid_1's binary_logloss: 0.440407\n",
      "[60]\ttraining's binary_logloss: 0.302727\tvalid_1's binary_logloss: 0.434527\n",
      "[70]\ttraining's binary_logloss: 0.285597\tvalid_1's binary_logloss: 0.434932\n",
      "Early stopping, best iteration is:\n",
      "[66]\ttraining's binary_logloss: 0.293072\tvalid_1's binary_logloss: 0.433251\n"
     ]
    }
   ],
   "source": [
    "import lightgbm as lgb\n",
    "\n",
    "\n",
    "lgb_train = lgb.Dataset(X_train, y_train,\n",
    "                                         categorical_feature=categorical_features)\n",
    "lgb_eval = lgb.Dataset(X_valid, y_valid, reference=lgb_train,\n",
    "                                         categorical_feature=categorical_features)\n",
    "\n",
    "model = lgb.train(params, lgb_train,\n",
    "                               valid_sets=[lgb_train, lgb_eval],\n",
    "                               verbose_eval=10,\n",
    "                               num_boost_round=1000,\n",
    "                               early_stopping_rounds=10)\n",
    "\n",
    "y_pred = model.predict(X_test, num_iteration=model.best_iteration)"
   ]
  },
  {
   "cell_type": "code",
   "execution_count": 17,
   "metadata": {},
   "outputs": [
    {
     "data": {
      "text/plain": [
       "array([0.03605598, 0.40306884, 0.10732166, 0.0802399 , 0.46011271,\n",
       "       0.20222002, 0.64929492, 0.11896033, 0.7452973 , 0.01917651])"
      ]
     },
     "execution_count": 17,
     "metadata": {},
     "output_type": "execute_result"
    }
   ],
   "source": [
    "y_pred[:10]"
   ]
  },
  {
   "cell_type": "markdown",
   "metadata": {},
   "source": [
    "# Optunaを使う"
   ]
  },
  {
   "cell_type": "code",
   "execution_count": 20,
   "metadata": {},
   "outputs": [],
   "source": [
    "import optuna\n",
    "from sklearn.metrics import log_loss\n",
    "\n",
    "# max_bin  & num_leaves\n",
    "def objective(trial):\n",
    "    params = {\n",
    "        'objective': 'binary',\n",
    "        'max_bin': trial.suggest_int('max_bin', 255, 500),\n",
    "        'learning_rate': 0.05,\n",
    "        'num_leaves': trial.suggest_int('num_leaves', 32, 128),\n",
    "    }\n",
    "\n",
    "    lgb_train = lgb.Dataset(X_train, y_train,\n",
    "                                             categorical_feature=categorical_features)\n",
    "    lgb_eval = lgb.Dataset(X_valid, y_valid, reference=lgb_train,\n",
    "                                            categorical_feature=categorical_features)\n",
    "\n",
    "    model = lgb.train(params, lgb_train,\n",
    "                                   valid_sets=[lgb_train, lgb_eval],\n",
    "                                   verbose_eval=10,\n",
    "                                   num_boost_round=1000,\n",
    "                                   early_stopping_rounds=10)\n",
    "\n",
    "    y_pred_valid = model.predict(X_valid, num_iteration=model.best_iteration)\n",
    "    score = log_loss(y_valid, y_pred_valid)\n",
    "    return score"
   ]
  },
  {
   "cell_type": "code",
   "execution_count": 21,
   "metadata": {},
   "outputs": [
    {
     "name": "stderr",
     "output_type": "stream",
     "text": [
      "/opt/conda/lib/python3.6/site-packages/lightgbm/basic.py:1243: UserWarning:\n",
      "\n",
      "Using categorical_feature in Dataset.\n",
      "\n"
     ]
    },
    {
     "name": "stdout",
     "output_type": "stream",
     "text": [
      "Training until validation scores don't improve for 10 rounds\n",
      "[10]\ttraining's binary_logloss: 0.505699\tvalid_1's binary_logloss: 0.532106\n",
      "[20]\ttraining's binary_logloss: 0.427825\tvalid_1's binary_logloss: 0.482279\n",
      "[30]\ttraining's binary_logloss: 0.377242\tvalid_1's binary_logloss: 0.456641\n",
      "[40]\ttraining's binary_logloss: 0.345424\tvalid_1's binary_logloss: 0.447083\n",
      "[50]\ttraining's binary_logloss: 0.323113\tvalid_1's binary_logloss: 0.440407\n",
      "[60]\ttraining's binary_logloss: 0.302727\tvalid_1's binary_logloss: 0.434527\n",
      "[70]\ttraining's binary_logloss: 0.285597\tvalid_1's binary_logloss: 0.434932\n",
      "Early stopping, best iteration is:\n",
      "[66]\ttraining's binary_logloss: 0.293072\tvalid_1's binary_logloss: 0.433251\n"
     ]
    },
    {
     "name": "stderr",
     "output_type": "stream",
     "text": [
      "[I 2020-04-30 02:31:39,080] Finished trial#0 resulted in value: 0.4332512137886331. Current best value is 0.4332512137886331 with parameters: {'max_bin': 427, 'num_leaves': 79}.\n",
      "/opt/conda/lib/python3.6/site-packages/lightgbm/basic.py:1243: UserWarning:\n",
      "\n",
      "Using categorical_feature in Dataset.\n",
      "\n"
     ]
    },
    {
     "name": "stdout",
     "output_type": "stream",
     "text": [
      "Training until validation scores don't improve for 10 rounds\n",
      "[10]\ttraining's binary_logloss: 0.505699\tvalid_1's binary_logloss: 0.532106\n",
      "[20]\ttraining's binary_logloss: 0.427825\tvalid_1's binary_logloss: 0.482279\n",
      "[30]\ttraining's binary_logloss: 0.377242\tvalid_1's binary_logloss: 0.456641\n",
      "[40]\ttraining's binary_logloss: 0.345424\tvalid_1's binary_logloss: 0.447083\n",
      "[50]\ttraining's binary_logloss: 0.323113\tvalid_1's binary_logloss: 0.440407\n",
      "[60]\ttraining's binary_logloss: 0.302727\tvalid_1's binary_logloss: 0.434527\n",
      "[70]\ttraining's binary_logloss: 0.285597\tvalid_1's binary_logloss: 0.434932\n",
      "Early stopping, best iteration is:\n",
      "[66]\ttraining's binary_logloss: 0.293072\tvalid_1's binary_logloss: 0.433251\n"
     ]
    },
    {
     "name": "stderr",
     "output_type": "stream",
     "text": [
      "[I 2020-04-30 02:31:39,760] Finished trial#1 resulted in value: 0.4332512137886331. Current best value is 0.4332512137886331 with parameters: {'max_bin': 427, 'num_leaves': 79}.\n",
      "/opt/conda/lib/python3.6/site-packages/lightgbm/basic.py:1243: UserWarning:\n",
      "\n",
      "Using categorical_feature in Dataset.\n",
      "\n"
     ]
    },
    {
     "name": "stdout",
     "output_type": "stream",
     "text": [
      "Training until validation scores don't improve for 10 rounds\n",
      "[10]\ttraining's binary_logloss: 0.505699\tvalid_1's binary_logloss: 0.532106\n",
      "[20]\ttraining's binary_logloss: 0.427825\tvalid_1's binary_logloss: 0.482279\n",
      "[30]\ttraining's binary_logloss: 0.377242\tvalid_1's binary_logloss: 0.456641\n",
      "[40]\ttraining's binary_logloss: 0.345424\tvalid_1's binary_logloss: 0.447083\n",
      "[50]\ttraining's binary_logloss: 0.323113\tvalid_1's binary_logloss: 0.440407\n",
      "[60]\ttraining's binary_logloss: 0.302727\tvalid_1's binary_logloss: 0.434527\n",
      "[70]\ttraining's binary_logloss: 0.285597\tvalid_1's binary_logloss: 0.434932\n",
      "Early stopping, best iteration is:\n",
      "[66]\ttraining's binary_logloss: 0.293072\tvalid_1's binary_logloss: 0.433251\n"
     ]
    },
    {
     "name": "stderr",
     "output_type": "stream",
     "text": [
      "[I 2020-04-30 02:31:40,484] Finished trial#2 resulted in value: 0.4332512137886331. Current best value is 0.4332512137886331 with parameters: {'max_bin': 427, 'num_leaves': 79}.\n",
      "/opt/conda/lib/python3.6/site-packages/lightgbm/basic.py:1243: UserWarning:\n",
      "\n",
      "Using categorical_feature in Dataset.\n",
      "\n"
     ]
    },
    {
     "name": "stdout",
     "output_type": "stream",
     "text": [
      "Training until validation scores don't improve for 10 rounds\n",
      "[10]\ttraining's binary_logloss: 0.505699\tvalid_1's binary_logloss: 0.532106\n",
      "[20]\ttraining's binary_logloss: 0.427825\tvalid_1's binary_logloss: 0.482279\n",
      "[30]\ttraining's binary_logloss: 0.377242\tvalid_1's binary_logloss: 0.456641\n",
      "[40]\ttraining's binary_logloss: 0.345424\tvalid_1's binary_logloss: 0.447083\n",
      "[50]\ttraining's binary_logloss: 0.323113\tvalid_1's binary_logloss: 0.440407\n",
      "[60]\ttraining's binary_logloss: 0.302727\tvalid_1's binary_logloss: 0.434527\n",
      "[70]\ttraining's binary_logloss: 0.285597\tvalid_1's binary_logloss: 0.434932\n",
      "Early stopping, best iteration is:\n",
      "[66]\ttraining's binary_logloss: 0.293072\tvalid_1's binary_logloss: 0.433251\n"
     ]
    },
    {
     "name": "stderr",
     "output_type": "stream",
     "text": [
      "[I 2020-04-30 02:31:41,281] Finished trial#3 resulted in value: 0.4332512137886331. Current best value is 0.4332512137886331 with parameters: {'max_bin': 427, 'num_leaves': 79}.\n",
      "/opt/conda/lib/python3.6/site-packages/lightgbm/basic.py:1243: UserWarning:\n",
      "\n",
      "Using categorical_feature in Dataset.\n",
      "\n"
     ]
    },
    {
     "name": "stdout",
     "output_type": "stream",
     "text": [
      "Training until validation scores don't improve for 10 rounds\n",
      "[10]\ttraining's binary_logloss: 0.505699\tvalid_1's binary_logloss: 0.532106\n",
      "[20]\ttraining's binary_logloss: 0.427825\tvalid_1's binary_logloss: 0.482279\n",
      "[30]\ttraining's binary_logloss: 0.377242\tvalid_1's binary_logloss: 0.456641\n",
      "[40]\ttraining's binary_logloss: 0.345424\tvalid_1's binary_logloss: 0.447083\n",
      "[50]\ttraining's binary_logloss: 0.323113\tvalid_1's binary_logloss: 0.440407\n",
      "[60]\ttraining's binary_logloss: 0.302727\tvalid_1's binary_logloss: 0.434527\n",
      "[70]\ttraining's binary_logloss: 0.285597\tvalid_1's binary_logloss: 0.434932\n",
      "Early stopping, best iteration is:\n",
      "[66]\ttraining's binary_logloss: 0.293072\tvalid_1's binary_logloss: 0.433251\n"
     ]
    },
    {
     "name": "stderr",
     "output_type": "stream",
     "text": [
      "[I 2020-04-30 02:31:42,062] Finished trial#4 resulted in value: 0.4332512137886331. Current best value is 0.4332512137886331 with parameters: {'max_bin': 427, 'num_leaves': 79}.\n",
      "/opt/conda/lib/python3.6/site-packages/lightgbm/basic.py:1243: UserWarning:\n",
      "\n",
      "Using categorical_feature in Dataset.\n",
      "\n"
     ]
    },
    {
     "name": "stdout",
     "output_type": "stream",
     "text": [
      "Training until validation scores don't improve for 10 rounds\n",
      "[10]\ttraining's binary_logloss: 0.505699\tvalid_1's binary_logloss: 0.532106\n",
      "[20]\ttraining's binary_logloss: 0.427825\tvalid_1's binary_logloss: 0.482279\n",
      "[30]\ttraining's binary_logloss: 0.377242\tvalid_1's binary_logloss: 0.456641\n",
      "[40]\ttraining's binary_logloss: 0.345424\tvalid_1's binary_logloss: 0.447083\n",
      "[50]\ttraining's binary_logloss: 0.323113\tvalid_1's binary_logloss: 0.440407\n",
      "[60]\ttraining's binary_logloss: 0.302727\tvalid_1's binary_logloss: 0.434527\n",
      "[70]\ttraining's binary_logloss: 0.285597\tvalid_1's binary_logloss: 0.434932\n",
      "Early stopping, best iteration is:\n",
      "[66]\ttraining's binary_logloss: 0.293072\tvalid_1's binary_logloss: 0.433251\n"
     ]
    },
    {
     "name": "stderr",
     "output_type": "stream",
     "text": [
      "[I 2020-04-30 02:31:42,807] Finished trial#5 resulted in value: 0.4332512137886331. Current best value is 0.4332512137886331 with parameters: {'max_bin': 427, 'num_leaves': 79}.\n",
      "/opt/conda/lib/python3.6/site-packages/lightgbm/basic.py:1243: UserWarning:\n",
      "\n",
      "Using categorical_feature in Dataset.\n",
      "\n"
     ]
    },
    {
     "name": "stdout",
     "output_type": "stream",
     "text": [
      "Training until validation scores don't improve for 10 rounds\n",
      "[10]\ttraining's binary_logloss: 0.505699\tvalid_1's binary_logloss: 0.532106\n",
      "[20]\ttraining's binary_logloss: 0.427825\tvalid_1's binary_logloss: 0.482279\n",
      "[30]\ttraining's binary_logloss: 0.377242\tvalid_1's binary_logloss: 0.456641\n",
      "[40]\ttraining's binary_logloss: 0.345424\tvalid_1's binary_logloss: 0.447083\n",
      "[50]\ttraining's binary_logloss: 0.323113\tvalid_1's binary_logloss: 0.440407\n",
      "[60]\ttraining's binary_logloss: 0.302727\tvalid_1's binary_logloss: 0.434527\n",
      "[70]\ttraining's binary_logloss: 0.285597\tvalid_1's binary_logloss: 0.434932\n",
      "Early stopping, best iteration is:\n",
      "[66]\ttraining's binary_logloss: 0.293072\tvalid_1's binary_logloss: 0.433251\n"
     ]
    },
    {
     "name": "stderr",
     "output_type": "stream",
     "text": [
      "[I 2020-04-30 02:31:43,317] Finished trial#6 resulted in value: 0.4332512137886331. Current best value is 0.4332512137886331 with parameters: {'max_bin': 427, 'num_leaves': 79}.\n",
      "/opt/conda/lib/python3.6/site-packages/lightgbm/basic.py:1243: UserWarning:\n",
      "\n",
      "Using categorical_feature in Dataset.\n",
      "\n"
     ]
    },
    {
     "name": "stdout",
     "output_type": "stream",
     "text": [
      "Training until validation scores don't improve for 10 rounds\n",
      "[10]\ttraining's binary_logloss: 0.505699\tvalid_1's binary_logloss: 0.532106\n",
      "[20]\ttraining's binary_logloss: 0.427825\tvalid_1's binary_logloss: 0.482279\n",
      "[30]\ttraining's binary_logloss: 0.377242\tvalid_1's binary_logloss: 0.456641\n",
      "[40]\ttraining's binary_logloss: 0.345424\tvalid_1's binary_logloss: 0.447083\n",
      "[50]\ttraining's binary_logloss: 0.323113\tvalid_1's binary_logloss: 0.440407\n",
      "[60]\ttraining's binary_logloss: 0.302727\tvalid_1's binary_logloss: 0.434527\n",
      "[70]\ttraining's binary_logloss: 0.285597\tvalid_1's binary_logloss: 0.434932\n",
      "Early stopping, best iteration is:\n",
      "[66]\ttraining's binary_logloss: 0.293072\tvalid_1's binary_logloss: 0.433251\n"
     ]
    },
    {
     "name": "stderr",
     "output_type": "stream",
     "text": [
      "[I 2020-04-30 02:31:43,786] Finished trial#7 resulted in value: 0.4332512137886331. Current best value is 0.4332512137886331 with parameters: {'max_bin': 427, 'num_leaves': 79}.\n",
      "/opt/conda/lib/python3.6/site-packages/lightgbm/basic.py:1243: UserWarning:\n",
      "\n",
      "Using categorical_feature in Dataset.\n",
      "\n"
     ]
    },
    {
     "name": "stdout",
     "output_type": "stream",
     "text": [
      "Training until validation scores don't improve for 10 rounds\n",
      "[10]\ttraining's binary_logloss: 0.505699\tvalid_1's binary_logloss: 0.532106\n",
      "[20]\ttraining's binary_logloss: 0.427825\tvalid_1's binary_logloss: 0.482279\n",
      "[30]\ttraining's binary_logloss: 0.377242\tvalid_1's binary_logloss: 0.456641\n",
      "[40]\ttraining's binary_logloss: 0.345424\tvalid_1's binary_logloss: 0.447083\n",
      "[50]\ttraining's binary_logloss: 0.323113\tvalid_1's binary_logloss: 0.440407\n",
      "[60]\ttraining's binary_logloss: 0.302727\tvalid_1's binary_logloss: 0.434527\n",
      "[70]\ttraining's binary_logloss: 0.285597\tvalid_1's binary_logloss: 0.434932\n",
      "Early stopping, best iteration is:\n",
      "[66]\ttraining's binary_logloss: 0.293072\tvalid_1's binary_logloss: 0.433251\n"
     ]
    },
    {
     "name": "stderr",
     "output_type": "stream",
     "text": [
      "[I 2020-04-30 02:31:44,526] Finished trial#8 resulted in value: 0.4332512137886331. Current best value is 0.4332512137886331 with parameters: {'max_bin': 427, 'num_leaves': 79}.\n",
      "/opt/conda/lib/python3.6/site-packages/lightgbm/basic.py:1243: UserWarning:\n",
      "\n",
      "Using categorical_feature in Dataset.\n",
      "\n"
     ]
    },
    {
     "name": "stdout",
     "output_type": "stream",
     "text": [
      "Training until validation scores don't improve for 10 rounds\n",
      "[10]\ttraining's binary_logloss: 0.505699\tvalid_1's binary_logloss: 0.532106\n",
      "[20]\ttraining's binary_logloss: 0.427825\tvalid_1's binary_logloss: 0.482279\n",
      "[30]\ttraining's binary_logloss: 0.377242\tvalid_1's binary_logloss: 0.456641\n",
      "[40]\ttraining's binary_logloss: 0.345424\tvalid_1's binary_logloss: 0.447083\n",
      "[50]\ttraining's binary_logloss: 0.323113\tvalid_1's binary_logloss: 0.440407\n",
      "[60]\ttraining's binary_logloss: 0.302727\tvalid_1's binary_logloss: 0.434527\n",
      "[70]\ttraining's binary_logloss: 0.285597\tvalid_1's binary_logloss: 0.434932\n",
      "Early stopping, best iteration is:\n",
      "[66]\ttraining's binary_logloss: 0.293072\tvalid_1's binary_logloss: 0.433251\n"
     ]
    },
    {
     "name": "stderr",
     "output_type": "stream",
     "text": [
      "[I 2020-04-30 02:31:45,101] Finished trial#9 resulted in value: 0.4332512137886331. Current best value is 0.4332512137886331 with parameters: {'max_bin': 427, 'num_leaves': 79}.\n",
      "/opt/conda/lib/python3.6/site-packages/lightgbm/basic.py:1243: UserWarning:\n",
      "\n",
      "Using categorical_feature in Dataset.\n",
      "\n"
     ]
    },
    {
     "name": "stdout",
     "output_type": "stream",
     "text": [
      "Training until validation scores don't improve for 10 rounds\n",
      "[10]\ttraining's binary_logloss: 0.505699\tvalid_1's binary_logloss: 0.532106\n",
      "[20]\ttraining's binary_logloss: 0.427825\tvalid_1's binary_logloss: 0.482279\n",
      "[30]\ttraining's binary_logloss: 0.377242\tvalid_1's binary_logloss: 0.456641\n",
      "[40]\ttraining's binary_logloss: 0.345424\tvalid_1's binary_logloss: 0.447083\n",
      "[50]\ttraining's binary_logloss: 0.323113\tvalid_1's binary_logloss: 0.440407\n",
      "[60]\ttraining's binary_logloss: 0.302727\tvalid_1's binary_logloss: 0.434527\n",
      "[70]\ttraining's binary_logloss: 0.285597\tvalid_1's binary_logloss: 0.434932\n",
      "Early stopping, best iteration is:\n",
      "[66]\ttraining's binary_logloss: 0.293072\tvalid_1's binary_logloss: 0.433251\n"
     ]
    },
    {
     "name": "stderr",
     "output_type": "stream",
     "text": [
      "[I 2020-04-30 02:31:45,823] Finished trial#10 resulted in value: 0.4332512137886331. Current best value is 0.4332512137886331 with parameters: {'max_bin': 427, 'num_leaves': 79}.\n",
      "/opt/conda/lib/python3.6/site-packages/lightgbm/basic.py:1243: UserWarning:\n",
      "\n",
      "Using categorical_feature in Dataset.\n",
      "\n"
     ]
    },
    {
     "name": "stdout",
     "output_type": "stream",
     "text": [
      "Training until validation scores don't improve for 10 rounds\n",
      "[10]\ttraining's binary_logloss: 0.505699\tvalid_1's binary_logloss: 0.532106\n",
      "[20]\ttraining's binary_logloss: 0.427825\tvalid_1's binary_logloss: 0.482279\n",
      "[30]\ttraining's binary_logloss: 0.377242\tvalid_1's binary_logloss: 0.456641\n",
      "[40]\ttraining's binary_logloss: 0.345424\tvalid_1's binary_logloss: 0.447083\n",
      "[50]\ttraining's binary_logloss: 0.323113\tvalid_1's binary_logloss: 0.440407\n",
      "[60]\ttraining's binary_logloss: 0.302727\tvalid_1's binary_logloss: 0.434527\n",
      "[70]\ttraining's binary_logloss: 0.285597\tvalid_1's binary_logloss: 0.434932\n",
      "Early stopping, best iteration is:\n",
      "[66]\ttraining's binary_logloss: 0.293072\tvalid_1's binary_logloss: 0.433251\n"
     ]
    },
    {
     "name": "stderr",
     "output_type": "stream",
     "text": [
      "[I 2020-04-30 02:31:46,342] Finished trial#11 resulted in value: 0.4332512137886331. Current best value is 0.4332512137886331 with parameters: {'max_bin': 427, 'num_leaves': 79}.\n",
      "/opt/conda/lib/python3.6/site-packages/lightgbm/basic.py:1243: UserWarning:\n",
      "\n",
      "Using categorical_feature in Dataset.\n",
      "\n"
     ]
    },
    {
     "name": "stdout",
     "output_type": "stream",
     "text": [
      "Training until validation scores don't improve for 10 rounds\n",
      "[10]\ttraining's binary_logloss: 0.505699\tvalid_1's binary_logloss: 0.532106\n",
      "[20]\ttraining's binary_logloss: 0.427825\tvalid_1's binary_logloss: 0.482279\n",
      "[30]\ttraining's binary_logloss: 0.377242\tvalid_1's binary_logloss: 0.456641\n",
      "[40]\ttraining's binary_logloss: 0.345424\tvalid_1's binary_logloss: 0.447083\n",
      "[50]\ttraining's binary_logloss: 0.323113\tvalid_1's binary_logloss: 0.440407\n",
      "[60]\ttraining's binary_logloss: 0.302727\tvalid_1's binary_logloss: 0.434527\n",
      "[70]\ttraining's binary_logloss: 0.285597\tvalid_1's binary_logloss: 0.434932\n",
      "Early stopping, best iteration is:\n",
      "[66]\ttraining's binary_logloss: 0.293072\tvalid_1's binary_logloss: 0.433251\n"
     ]
    },
    {
     "name": "stderr",
     "output_type": "stream",
     "text": [
      "[I 2020-04-30 02:31:46,848] Finished trial#12 resulted in value: 0.4332512137886331. Current best value is 0.4332512137886331 with parameters: {'max_bin': 427, 'num_leaves': 79}.\n",
      "/opt/conda/lib/python3.6/site-packages/lightgbm/basic.py:1243: UserWarning:\n",
      "\n",
      "Using categorical_feature in Dataset.\n",
      "\n"
     ]
    },
    {
     "name": "stdout",
     "output_type": "stream",
     "text": [
      "Training until validation scores don't improve for 10 rounds\n",
      "[10]\ttraining's binary_logloss: 0.505699\tvalid_1's binary_logloss: 0.532106\n",
      "[20]\ttraining's binary_logloss: 0.427825\tvalid_1's binary_logloss: 0.482279\n",
      "[30]\ttraining's binary_logloss: 0.377242\tvalid_1's binary_logloss: 0.456641\n",
      "[40]\ttraining's binary_logloss: 0.345424\tvalid_1's binary_logloss: 0.447083\n",
      "[50]\ttraining's binary_logloss: 0.323113\tvalid_1's binary_logloss: 0.440407\n",
      "[60]\ttraining's binary_logloss: 0.302727\tvalid_1's binary_logloss: 0.434527\n",
      "[70]\ttraining's binary_logloss: 0.285597\tvalid_1's binary_logloss: 0.434932\n",
      "Early stopping, best iteration is:\n",
      "[66]\ttraining's binary_logloss: 0.293072\tvalid_1's binary_logloss: 0.433251\n"
     ]
    },
    {
     "name": "stderr",
     "output_type": "stream",
     "text": [
      "[I 2020-04-30 02:31:47,401] Finished trial#13 resulted in value: 0.4332512137886331. Current best value is 0.4332512137886331 with parameters: {'max_bin': 427, 'num_leaves': 79}.\n",
      "/opt/conda/lib/python3.6/site-packages/lightgbm/basic.py:1243: UserWarning:\n",
      "\n",
      "Using categorical_feature in Dataset.\n",
      "\n"
     ]
    },
    {
     "name": "stdout",
     "output_type": "stream",
     "text": [
      "Training until validation scores don't improve for 10 rounds\n",
      "[10]\ttraining's binary_logloss: 0.505699\tvalid_1's binary_logloss: 0.532106\n",
      "[20]\ttraining's binary_logloss: 0.427825\tvalid_1's binary_logloss: 0.482279\n",
      "[30]\ttraining's binary_logloss: 0.377242\tvalid_1's binary_logloss: 0.456641\n",
      "[40]\ttraining's binary_logloss: 0.345424\tvalid_1's binary_logloss: 0.447083\n",
      "[50]\ttraining's binary_logloss: 0.323113\tvalid_1's binary_logloss: 0.440407\n",
      "[60]\ttraining's binary_logloss: 0.302727\tvalid_1's binary_logloss: 0.434527\n",
      "[70]\ttraining's binary_logloss: 0.285597\tvalid_1's binary_logloss: 0.434932\n",
      "Early stopping, best iteration is:\n",
      "[66]\ttraining's binary_logloss: 0.293072\tvalid_1's binary_logloss: 0.433251\n"
     ]
    },
    {
     "name": "stderr",
     "output_type": "stream",
     "text": [
      "[I 2020-04-30 02:31:47,919] Finished trial#14 resulted in value: 0.4332512137886331. Current best value is 0.4332512137886331 with parameters: {'max_bin': 427, 'num_leaves': 79}.\n",
      "/opt/conda/lib/python3.6/site-packages/lightgbm/basic.py:1243: UserWarning:\n",
      "\n",
      "Using categorical_feature in Dataset.\n",
      "\n"
     ]
    },
    {
     "name": "stdout",
     "output_type": "stream",
     "text": [
      "Training until validation scores don't improve for 10 rounds\n",
      "[10]\ttraining's binary_logloss: 0.505699\tvalid_1's binary_logloss: 0.532106\n",
      "[20]\ttraining's binary_logloss: 0.427825\tvalid_1's binary_logloss: 0.482279\n",
      "[30]\ttraining's binary_logloss: 0.377242\tvalid_1's binary_logloss: 0.456641\n",
      "[40]\ttraining's binary_logloss: 0.345424\tvalid_1's binary_logloss: 0.447083\n",
      "[50]\ttraining's binary_logloss: 0.323113\tvalid_1's binary_logloss: 0.440407\n",
      "[60]\ttraining's binary_logloss: 0.302727\tvalid_1's binary_logloss: 0.434527\n",
      "[70]\ttraining's binary_logloss: 0.285597\tvalid_1's binary_logloss: 0.434932\n",
      "Early stopping, best iteration is:\n",
      "[66]\ttraining's binary_logloss: 0.293072\tvalid_1's binary_logloss: 0.433251\n"
     ]
    },
    {
     "name": "stderr",
     "output_type": "stream",
     "text": [
      "[I 2020-04-30 02:31:48,451] Finished trial#15 resulted in value: 0.4332512137886331. Current best value is 0.4332512137886331 with parameters: {'max_bin': 427, 'num_leaves': 79}.\n",
      "/opt/conda/lib/python3.6/site-packages/lightgbm/basic.py:1243: UserWarning:\n",
      "\n",
      "Using categorical_feature in Dataset.\n",
      "\n"
     ]
    },
    {
     "name": "stdout",
     "output_type": "stream",
     "text": [
      "Training until validation scores don't improve for 10 rounds\n",
      "[10]\ttraining's binary_logloss: 0.505699\tvalid_1's binary_logloss: 0.532106\n",
      "[20]\ttraining's binary_logloss: 0.427825\tvalid_1's binary_logloss: 0.482279\n",
      "[30]\ttraining's binary_logloss: 0.377242\tvalid_1's binary_logloss: 0.456641\n",
      "[40]\ttraining's binary_logloss: 0.345424\tvalid_1's binary_logloss: 0.447083\n",
      "[50]\ttraining's binary_logloss: 0.323113\tvalid_1's binary_logloss: 0.440407\n",
      "[60]\ttraining's binary_logloss: 0.302727\tvalid_1's binary_logloss: 0.434527\n",
      "[70]\ttraining's binary_logloss: 0.285597\tvalid_1's binary_logloss: 0.434932\n",
      "Early stopping, best iteration is:\n",
      "[66]\ttraining's binary_logloss: 0.293072\tvalid_1's binary_logloss: 0.433251\n"
     ]
    },
    {
     "name": "stderr",
     "output_type": "stream",
     "text": [
      "[I 2020-04-30 02:31:49,193] Finished trial#16 resulted in value: 0.4332512137886331. Current best value is 0.4332512137886331 with parameters: {'max_bin': 427, 'num_leaves': 79}.\n",
      "/opt/conda/lib/python3.6/site-packages/lightgbm/basic.py:1243: UserWarning:\n",
      "\n",
      "Using categorical_feature in Dataset.\n",
      "\n"
     ]
    },
    {
     "name": "stdout",
     "output_type": "stream",
     "text": [
      "Training until validation scores don't improve for 10 rounds\n",
      "[10]\ttraining's binary_logloss: 0.505699\tvalid_1's binary_logloss: 0.532106\n",
      "[20]\ttraining's binary_logloss: 0.427825\tvalid_1's binary_logloss: 0.482279\n",
      "[30]\ttraining's binary_logloss: 0.377242\tvalid_1's binary_logloss: 0.456641\n",
      "[40]\ttraining's binary_logloss: 0.345424\tvalid_1's binary_logloss: 0.447083\n",
      "[50]\ttraining's binary_logloss: 0.323113\tvalid_1's binary_logloss: 0.440407\n",
      "[60]\ttraining's binary_logloss: 0.302727\tvalid_1's binary_logloss: 0.434527\n",
      "[70]\ttraining's binary_logloss: 0.285597\tvalid_1's binary_logloss: 0.434932\n",
      "Early stopping, best iteration is:\n",
      "[66]\ttraining's binary_logloss: 0.293072\tvalid_1's binary_logloss: 0.433251\n"
     ]
    },
    {
     "name": "stderr",
     "output_type": "stream",
     "text": [
      "[I 2020-04-30 02:31:49,904] Finished trial#17 resulted in value: 0.4332512137886331. Current best value is 0.4332512137886331 with parameters: {'max_bin': 427, 'num_leaves': 79}.\n",
      "/opt/conda/lib/python3.6/site-packages/lightgbm/basic.py:1243: UserWarning:\n",
      "\n",
      "Using categorical_feature in Dataset.\n",
      "\n"
     ]
    },
    {
     "name": "stdout",
     "output_type": "stream",
     "text": [
      "Training until validation scores don't improve for 10 rounds\n",
      "[10]\ttraining's binary_logloss: 0.505699\tvalid_1's binary_logloss: 0.532106\n",
      "[20]\ttraining's binary_logloss: 0.427825\tvalid_1's binary_logloss: 0.482279\n",
      "[30]\ttraining's binary_logloss: 0.377242\tvalid_1's binary_logloss: 0.456641\n",
      "[40]\ttraining's binary_logloss: 0.345424\tvalid_1's binary_logloss: 0.447083\n",
      "[50]\ttraining's binary_logloss: 0.323113\tvalid_1's binary_logloss: 0.440407\n",
      "[60]\ttraining's binary_logloss: 0.302727\tvalid_1's binary_logloss: 0.434527\n",
      "[70]\ttraining's binary_logloss: 0.285597\tvalid_1's binary_logloss: 0.434932\n",
      "Early stopping, best iteration is:\n",
      "[66]\ttraining's binary_logloss: 0.293072\tvalid_1's binary_logloss: 0.433251\n"
     ]
    },
    {
     "name": "stderr",
     "output_type": "stream",
     "text": [
      "[I 2020-04-30 02:31:50,453] Finished trial#18 resulted in value: 0.4332512137886331. Current best value is 0.4332512137886331 with parameters: {'max_bin': 427, 'num_leaves': 79}.\n",
      "/opt/conda/lib/python3.6/site-packages/lightgbm/basic.py:1243: UserWarning:\n",
      "\n",
      "Using categorical_feature in Dataset.\n",
      "\n"
     ]
    },
    {
     "name": "stdout",
     "output_type": "stream",
     "text": [
      "Training until validation scores don't improve for 10 rounds\n",
      "[10]\ttraining's binary_logloss: 0.505699\tvalid_1's binary_logloss: 0.532106\n",
      "[20]\ttraining's binary_logloss: 0.427825\tvalid_1's binary_logloss: 0.482279\n",
      "[30]\ttraining's binary_logloss: 0.377242\tvalid_1's binary_logloss: 0.456641\n",
      "[40]\ttraining's binary_logloss: 0.345424\tvalid_1's binary_logloss: 0.447083\n",
      "[50]\ttraining's binary_logloss: 0.323113\tvalid_1's binary_logloss: 0.440407\n",
      "[60]\ttraining's binary_logloss: 0.302727\tvalid_1's binary_logloss: 0.434527\n",
      "[70]\ttraining's binary_logloss: 0.285597\tvalid_1's binary_logloss: 0.434932\n",
      "Early stopping, best iteration is:\n",
      "[66]\ttraining's binary_logloss: 0.293072\tvalid_1's binary_logloss: 0.433251\n"
     ]
    },
    {
     "name": "stderr",
     "output_type": "stream",
     "text": [
      "[I 2020-04-30 02:31:51,145] Finished trial#19 resulted in value: 0.4332512137886331. Current best value is 0.4332512137886331 with parameters: {'max_bin': 427, 'num_leaves': 79}.\n",
      "/opt/conda/lib/python3.6/site-packages/lightgbm/basic.py:1243: UserWarning:\n",
      "\n",
      "Using categorical_feature in Dataset.\n",
      "\n"
     ]
    },
    {
     "name": "stdout",
     "output_type": "stream",
     "text": [
      "Training until validation scores don't improve for 10 rounds\n",
      "[10]\ttraining's binary_logloss: 0.505699\tvalid_1's binary_logloss: 0.532106\n",
      "[20]\ttraining's binary_logloss: 0.427825\tvalid_1's binary_logloss: 0.482279\n",
      "[30]\ttraining's binary_logloss: 0.377242\tvalid_1's binary_logloss: 0.456641\n",
      "[40]\ttraining's binary_logloss: 0.345424\tvalid_1's binary_logloss: 0.447083\n",
      "[50]\ttraining's binary_logloss: 0.323113\tvalid_1's binary_logloss: 0.440407\n",
      "[60]\ttraining's binary_logloss: 0.302727\tvalid_1's binary_logloss: 0.434527\n",
      "[70]\ttraining's binary_logloss: 0.285597\tvalid_1's binary_logloss: 0.434932\n",
      "Early stopping, best iteration is:\n",
      "[66]\ttraining's binary_logloss: 0.293072\tvalid_1's binary_logloss: 0.433251\n"
     ]
    },
    {
     "name": "stderr",
     "output_type": "stream",
     "text": [
      "[I 2020-04-30 02:31:51,740] Finished trial#20 resulted in value: 0.4332512137886331. Current best value is 0.4332512137886331 with parameters: {'max_bin': 427, 'num_leaves': 79}.\n",
      "/opt/conda/lib/python3.6/site-packages/lightgbm/basic.py:1243: UserWarning:\n",
      "\n",
      "Using categorical_feature in Dataset.\n",
      "\n"
     ]
    },
    {
     "name": "stdout",
     "output_type": "stream",
     "text": [
      "Training until validation scores don't improve for 10 rounds\n",
      "[10]\ttraining's binary_logloss: 0.505699\tvalid_1's binary_logloss: 0.532106\n",
      "[20]\ttraining's binary_logloss: 0.427825\tvalid_1's binary_logloss: 0.482279\n",
      "[30]\ttraining's binary_logloss: 0.377242\tvalid_1's binary_logloss: 0.456641\n",
      "[40]\ttraining's binary_logloss: 0.345424\tvalid_1's binary_logloss: 0.447083\n",
      "[50]\ttraining's binary_logloss: 0.323113\tvalid_1's binary_logloss: 0.440407\n",
      "[60]\ttraining's binary_logloss: 0.302727\tvalid_1's binary_logloss: 0.434527\n",
      "[70]\ttraining's binary_logloss: 0.285597\tvalid_1's binary_logloss: 0.434932\n",
      "Early stopping, best iteration is:\n",
      "[66]\ttraining's binary_logloss: 0.293072\tvalid_1's binary_logloss: 0.433251\n"
     ]
    },
    {
     "name": "stderr",
     "output_type": "stream",
     "text": [
      "[I 2020-04-30 02:31:52,697] Finished trial#21 resulted in value: 0.4332512137886331. Current best value is 0.4332512137886331 with parameters: {'max_bin': 427, 'num_leaves': 79}.\n",
      "/opt/conda/lib/python3.6/site-packages/lightgbm/basic.py:1243: UserWarning:\n",
      "\n",
      "Using categorical_feature in Dataset.\n",
      "\n"
     ]
    },
    {
     "name": "stdout",
     "output_type": "stream",
     "text": [
      "Training until validation scores don't improve for 10 rounds\n",
      "[10]\ttraining's binary_logloss: 0.505699\tvalid_1's binary_logloss: 0.532106\n",
      "[20]\ttraining's binary_logloss: 0.427825\tvalid_1's binary_logloss: 0.482279\n",
      "[30]\ttraining's binary_logloss: 0.377242\tvalid_1's binary_logloss: 0.456641\n",
      "[40]\ttraining's binary_logloss: 0.345424\tvalid_1's binary_logloss: 0.447083\n",
      "[50]\ttraining's binary_logloss: 0.323113\tvalid_1's binary_logloss: 0.440407\n",
      "[60]\ttraining's binary_logloss: 0.302727\tvalid_1's binary_logloss: 0.434527\n",
      "[70]\ttraining's binary_logloss: 0.285597\tvalid_1's binary_logloss: 0.434932\n",
      "Early stopping, best iteration is:\n",
      "[66]\ttraining's binary_logloss: 0.293072\tvalid_1's binary_logloss: 0.433251\n"
     ]
    },
    {
     "name": "stderr",
     "output_type": "stream",
     "text": [
      "[I 2020-04-30 02:31:53,370] Finished trial#22 resulted in value: 0.4332512137886331. Current best value is 0.4332512137886331 with parameters: {'max_bin': 427, 'num_leaves': 79}.\n",
      "/opt/conda/lib/python3.6/site-packages/lightgbm/basic.py:1243: UserWarning:\n",
      "\n",
      "Using categorical_feature in Dataset.\n",
      "\n"
     ]
    },
    {
     "name": "stdout",
     "output_type": "stream",
     "text": [
      "Training until validation scores don't improve for 10 rounds\n",
      "[10]\ttraining's binary_logloss: 0.505699\tvalid_1's binary_logloss: 0.532106\n",
      "[20]\ttraining's binary_logloss: 0.427825\tvalid_1's binary_logloss: 0.482279\n",
      "[30]\ttraining's binary_logloss: 0.377242\tvalid_1's binary_logloss: 0.456641\n",
      "[40]\ttraining's binary_logloss: 0.345424\tvalid_1's binary_logloss: 0.447083\n",
      "[50]\ttraining's binary_logloss: 0.323113\tvalid_1's binary_logloss: 0.440407\n",
      "[60]\ttraining's binary_logloss: 0.302727\tvalid_1's binary_logloss: 0.434527\n",
      "[70]\ttraining's binary_logloss: 0.285597\tvalid_1's binary_logloss: 0.434932\n",
      "Early stopping, best iteration is:\n",
      "[66]\ttraining's binary_logloss: 0.293072\tvalid_1's binary_logloss: 0.433251\n"
     ]
    },
    {
     "name": "stderr",
     "output_type": "stream",
     "text": [
      "[I 2020-04-30 02:31:53,978] Finished trial#23 resulted in value: 0.4332512137886331. Current best value is 0.4332512137886331 with parameters: {'max_bin': 427, 'num_leaves': 79}.\n",
      "/opt/conda/lib/python3.6/site-packages/lightgbm/basic.py:1243: UserWarning:\n",
      "\n",
      "Using categorical_feature in Dataset.\n",
      "\n"
     ]
    },
    {
     "name": "stdout",
     "output_type": "stream",
     "text": [
      "Training until validation scores don't improve for 10 rounds\n",
      "[10]\ttraining's binary_logloss: 0.505699\tvalid_1's binary_logloss: 0.532106\n",
      "[20]\ttraining's binary_logloss: 0.427825\tvalid_1's binary_logloss: 0.482279\n",
      "[30]\ttraining's binary_logloss: 0.377242\tvalid_1's binary_logloss: 0.456641\n",
      "[40]\ttraining's binary_logloss: 0.345424\tvalid_1's binary_logloss: 0.447083\n",
      "[50]\ttraining's binary_logloss: 0.323113\tvalid_1's binary_logloss: 0.440407\n",
      "[60]\ttraining's binary_logloss: 0.302727\tvalid_1's binary_logloss: 0.434527\n",
      "[70]\ttraining's binary_logloss: 0.285597\tvalid_1's binary_logloss: 0.434932\n",
      "Early stopping, best iteration is:\n",
      "[66]\ttraining's binary_logloss: 0.293072\tvalid_1's binary_logloss: 0.433251\n"
     ]
    },
    {
     "name": "stderr",
     "output_type": "stream",
     "text": [
      "[I 2020-04-30 02:31:54,561] Finished trial#24 resulted in value: 0.4332512137886331. Current best value is 0.4332512137886331 with parameters: {'max_bin': 427, 'num_leaves': 79}.\n",
      "/opt/conda/lib/python3.6/site-packages/lightgbm/basic.py:1243: UserWarning:\n",
      "\n",
      "Using categorical_feature in Dataset.\n",
      "\n"
     ]
    },
    {
     "name": "stdout",
     "output_type": "stream",
     "text": [
      "Training until validation scores don't improve for 10 rounds\n",
      "[10]\ttraining's binary_logloss: 0.505699\tvalid_1's binary_logloss: 0.532106\n",
      "[20]\ttraining's binary_logloss: 0.427825\tvalid_1's binary_logloss: 0.482279\n",
      "[30]\ttraining's binary_logloss: 0.377242\tvalid_1's binary_logloss: 0.456641\n",
      "[40]\ttraining's binary_logloss: 0.345424\tvalid_1's binary_logloss: 0.447083\n",
      "[50]\ttraining's binary_logloss: 0.323113\tvalid_1's binary_logloss: 0.440407\n",
      "[60]\ttraining's binary_logloss: 0.302727\tvalid_1's binary_logloss: 0.434527\n",
      "[70]\ttraining's binary_logloss: 0.285597\tvalid_1's binary_logloss: 0.434932\n",
      "Early stopping, best iteration is:\n",
      "[66]\ttraining's binary_logloss: 0.293072\tvalid_1's binary_logloss: 0.433251\n"
     ]
    },
    {
     "name": "stderr",
     "output_type": "stream",
     "text": [
      "[I 2020-04-30 02:31:55,514] Finished trial#25 resulted in value: 0.4332512137886331. Current best value is 0.4332512137886331 with parameters: {'max_bin': 427, 'num_leaves': 79}.\n",
      "/opt/conda/lib/python3.6/site-packages/lightgbm/basic.py:1243: UserWarning:\n",
      "\n",
      "Using categorical_feature in Dataset.\n",
      "\n"
     ]
    },
    {
     "name": "stdout",
     "output_type": "stream",
     "text": [
      "Training until validation scores don't improve for 10 rounds\n",
      "[10]\ttraining's binary_logloss: 0.505699\tvalid_1's binary_logloss: 0.532106\n",
      "[20]\ttraining's binary_logloss: 0.427825\tvalid_1's binary_logloss: 0.482279\n",
      "[30]\ttraining's binary_logloss: 0.377242\tvalid_1's binary_logloss: 0.456641\n",
      "[40]\ttraining's binary_logloss: 0.345424\tvalid_1's binary_logloss: 0.447083\n",
      "[50]\ttraining's binary_logloss: 0.323113\tvalid_1's binary_logloss: 0.440407\n",
      "[60]\ttraining's binary_logloss: 0.302727\tvalid_1's binary_logloss: 0.434527\n",
      "[70]\ttraining's binary_logloss: 0.285597\tvalid_1's binary_logloss: 0.434932\n",
      "Early stopping, best iteration is:\n",
      "[66]\ttraining's binary_logloss: 0.293072\tvalid_1's binary_logloss: 0.433251\n"
     ]
    },
    {
     "name": "stderr",
     "output_type": "stream",
     "text": [
      "[I 2020-04-30 02:31:56,308] Finished trial#26 resulted in value: 0.4332512137886331. Current best value is 0.4332512137886331 with parameters: {'max_bin': 427, 'num_leaves': 79}.\n",
      "/opt/conda/lib/python3.6/site-packages/lightgbm/basic.py:1243: UserWarning:\n",
      "\n",
      "Using categorical_feature in Dataset.\n",
      "\n"
     ]
    },
    {
     "name": "stdout",
     "output_type": "stream",
     "text": [
      "Training until validation scores don't improve for 10 rounds\n",
      "[10]\ttraining's binary_logloss: 0.505699\tvalid_1's binary_logloss: 0.532106\n",
      "[20]\ttraining's binary_logloss: 0.427825\tvalid_1's binary_logloss: 0.482279\n",
      "[30]\ttraining's binary_logloss: 0.377242\tvalid_1's binary_logloss: 0.456641\n",
      "[40]\ttraining's binary_logloss: 0.345424\tvalid_1's binary_logloss: 0.447083\n",
      "[50]\ttraining's binary_logloss: 0.323113\tvalid_1's binary_logloss: 0.440407\n",
      "[60]\ttraining's binary_logloss: 0.302727\tvalid_1's binary_logloss: 0.434527\n",
      "[70]\ttraining's binary_logloss: 0.285597\tvalid_1's binary_logloss: 0.434932\n",
      "Early stopping, best iteration is:\n",
      "[66]\ttraining's binary_logloss: 0.293072\tvalid_1's binary_logloss: 0.433251\n"
     ]
    },
    {
     "name": "stderr",
     "output_type": "stream",
     "text": [
      "[I 2020-04-30 02:31:56,890] Finished trial#27 resulted in value: 0.4332512137886331. Current best value is 0.4332512137886331 with parameters: {'max_bin': 427, 'num_leaves': 79}.\n",
      "/opt/conda/lib/python3.6/site-packages/lightgbm/basic.py:1243: UserWarning:\n",
      "\n",
      "Using categorical_feature in Dataset.\n",
      "\n"
     ]
    },
    {
     "name": "stdout",
     "output_type": "stream",
     "text": [
      "Training until validation scores don't improve for 10 rounds\n",
      "[10]\ttraining's binary_logloss: 0.505699\tvalid_1's binary_logloss: 0.532106\n",
      "[20]\ttraining's binary_logloss: 0.427825\tvalid_1's binary_logloss: 0.482279\n",
      "[30]\ttraining's binary_logloss: 0.377242\tvalid_1's binary_logloss: 0.456641\n",
      "[40]\ttraining's binary_logloss: 0.345424\tvalid_1's binary_logloss: 0.447083\n",
      "[50]\ttraining's binary_logloss: 0.323113\tvalid_1's binary_logloss: 0.440407\n",
      "[60]\ttraining's binary_logloss: 0.302727\tvalid_1's binary_logloss: 0.434527\n",
      "[70]\ttraining's binary_logloss: 0.285597\tvalid_1's binary_logloss: 0.434932\n",
      "Early stopping, best iteration is:\n",
      "[66]\ttraining's binary_logloss: 0.293072\tvalid_1's binary_logloss: 0.433251\n"
     ]
    },
    {
     "name": "stderr",
     "output_type": "stream",
     "text": [
      "[I 2020-04-30 02:31:57,467] Finished trial#28 resulted in value: 0.4332512137886331. Current best value is 0.4332512137886331 with parameters: {'max_bin': 427, 'num_leaves': 79}.\n",
      "/opt/conda/lib/python3.6/site-packages/lightgbm/basic.py:1243: UserWarning:\n",
      "\n",
      "Using categorical_feature in Dataset.\n",
      "\n"
     ]
    },
    {
     "name": "stdout",
     "output_type": "stream",
     "text": [
      "Training until validation scores don't improve for 10 rounds\n",
      "[10]\ttraining's binary_logloss: 0.505699\tvalid_1's binary_logloss: 0.532106\n",
      "[20]\ttraining's binary_logloss: 0.427825\tvalid_1's binary_logloss: 0.482279\n",
      "[30]\ttraining's binary_logloss: 0.377242\tvalid_1's binary_logloss: 0.456641\n",
      "[40]\ttraining's binary_logloss: 0.345424\tvalid_1's binary_logloss: 0.447083\n",
      "[50]\ttraining's binary_logloss: 0.323113\tvalid_1's binary_logloss: 0.440407\n",
      "[60]\ttraining's binary_logloss: 0.302727\tvalid_1's binary_logloss: 0.434527\n",
      "[70]\ttraining's binary_logloss: 0.285597\tvalid_1's binary_logloss: 0.434932\n",
      "Early stopping, best iteration is:\n",
      "[66]\ttraining's binary_logloss: 0.293072\tvalid_1's binary_logloss: 0.433251\n"
     ]
    },
    {
     "name": "stderr",
     "output_type": "stream",
     "text": [
      "[I 2020-04-30 02:31:58,272] Finished trial#29 resulted in value: 0.4332512137886331. Current best value is 0.4332512137886331 with parameters: {'max_bin': 427, 'num_leaves': 79}.\n",
      "/opt/conda/lib/python3.6/site-packages/lightgbm/basic.py:1243: UserWarning:\n",
      "\n",
      "Using categorical_feature in Dataset.\n",
      "\n"
     ]
    },
    {
     "name": "stdout",
     "output_type": "stream",
     "text": [
      "Training until validation scores don't improve for 10 rounds\n",
      "[10]\ttraining's binary_logloss: 0.505699\tvalid_1's binary_logloss: 0.532106\n",
      "[20]\ttraining's binary_logloss: 0.427825\tvalid_1's binary_logloss: 0.482279\n",
      "[30]\ttraining's binary_logloss: 0.377242\tvalid_1's binary_logloss: 0.456641\n",
      "[40]\ttraining's binary_logloss: 0.345424\tvalid_1's binary_logloss: 0.447083\n",
      "[50]\ttraining's binary_logloss: 0.323113\tvalid_1's binary_logloss: 0.440407\n",
      "[60]\ttraining's binary_logloss: 0.302727\tvalid_1's binary_logloss: 0.434527\n",
      "[70]\ttraining's binary_logloss: 0.285597\tvalid_1's binary_logloss: 0.434932\n",
      "Early stopping, best iteration is:\n",
      "[66]\ttraining's binary_logloss: 0.293072\tvalid_1's binary_logloss: 0.433251\n"
     ]
    },
    {
     "name": "stderr",
     "output_type": "stream",
     "text": [
      "[I 2020-04-30 02:31:58,845] Finished trial#30 resulted in value: 0.4332512137886331. Current best value is 0.4332512137886331 with parameters: {'max_bin': 427, 'num_leaves': 79}.\n",
      "/opt/conda/lib/python3.6/site-packages/lightgbm/basic.py:1243: UserWarning:\n",
      "\n",
      "Using categorical_feature in Dataset.\n",
      "\n"
     ]
    },
    {
     "name": "stdout",
     "output_type": "stream",
     "text": [
      "Training until validation scores don't improve for 10 rounds\n",
      "[10]\ttraining's binary_logloss: 0.505699\tvalid_1's binary_logloss: 0.532106\n",
      "[20]\ttraining's binary_logloss: 0.427825\tvalid_1's binary_logloss: 0.482279\n",
      "[30]\ttraining's binary_logloss: 0.377242\tvalid_1's binary_logloss: 0.456641\n",
      "[40]\ttraining's binary_logloss: 0.345424\tvalid_1's binary_logloss: 0.447083\n",
      "[50]\ttraining's binary_logloss: 0.323113\tvalid_1's binary_logloss: 0.440407\n",
      "[60]\ttraining's binary_logloss: 0.302727\tvalid_1's binary_logloss: 0.434527\n",
      "[70]\ttraining's binary_logloss: 0.285597\tvalid_1's binary_logloss: 0.434932\n",
      "Early stopping, best iteration is:\n",
      "[66]\ttraining's binary_logloss: 0.293072\tvalid_1's binary_logloss: 0.433251\n"
     ]
    },
    {
     "name": "stderr",
     "output_type": "stream",
     "text": [
      "[I 2020-04-30 02:31:59,589] Finished trial#31 resulted in value: 0.4332512137886331. Current best value is 0.4332512137886331 with parameters: {'max_bin': 427, 'num_leaves': 79}.\n",
      "/opt/conda/lib/python3.6/site-packages/lightgbm/basic.py:1243: UserWarning:\n",
      "\n",
      "Using categorical_feature in Dataset.\n",
      "\n"
     ]
    },
    {
     "name": "stdout",
     "output_type": "stream",
     "text": [
      "Training until validation scores don't improve for 10 rounds\n",
      "[10]\ttraining's binary_logloss: 0.505699\tvalid_1's binary_logloss: 0.532106\n",
      "[20]\ttraining's binary_logloss: 0.427825\tvalid_1's binary_logloss: 0.482279\n",
      "[30]\ttraining's binary_logloss: 0.377242\tvalid_1's binary_logloss: 0.456641\n",
      "[40]\ttraining's binary_logloss: 0.345424\tvalid_1's binary_logloss: 0.447083\n",
      "[50]\ttraining's binary_logloss: 0.323113\tvalid_1's binary_logloss: 0.440407\n",
      "[60]\ttraining's binary_logloss: 0.302727\tvalid_1's binary_logloss: 0.434527\n",
      "[70]\ttraining's binary_logloss: 0.285597\tvalid_1's binary_logloss: 0.434932\n",
      "Early stopping, best iteration is:\n",
      "[66]\ttraining's binary_logloss: 0.293072\tvalid_1's binary_logloss: 0.433251\n"
     ]
    },
    {
     "name": "stderr",
     "output_type": "stream",
     "text": [
      "[I 2020-04-30 02:32:00,229] Finished trial#32 resulted in value: 0.4332512137886331. Current best value is 0.4332512137886331 with parameters: {'max_bin': 427, 'num_leaves': 79}.\n",
      "/opt/conda/lib/python3.6/site-packages/lightgbm/basic.py:1243: UserWarning:\n",
      "\n",
      "Using categorical_feature in Dataset.\n",
      "\n"
     ]
    },
    {
     "name": "stdout",
     "output_type": "stream",
     "text": [
      "Training until validation scores don't improve for 10 rounds\n",
      "[10]\ttraining's binary_logloss: 0.505699\tvalid_1's binary_logloss: 0.532106\n",
      "[20]\ttraining's binary_logloss: 0.427825\tvalid_1's binary_logloss: 0.482279\n",
      "[30]\ttraining's binary_logloss: 0.377242\tvalid_1's binary_logloss: 0.456641\n",
      "[40]\ttraining's binary_logloss: 0.345424\tvalid_1's binary_logloss: 0.447083\n",
      "[50]\ttraining's binary_logloss: 0.323113\tvalid_1's binary_logloss: 0.440407\n",
      "[60]\ttraining's binary_logloss: 0.302727\tvalid_1's binary_logloss: 0.434527\n",
      "[70]\ttraining's binary_logloss: 0.285597\tvalid_1's binary_logloss: 0.434932\n",
      "Early stopping, best iteration is:\n",
      "[66]\ttraining's binary_logloss: 0.293072\tvalid_1's binary_logloss: 0.433251\n"
     ]
    },
    {
     "name": "stderr",
     "output_type": "stream",
     "text": [
      "[I 2020-04-30 02:32:00,772] Finished trial#33 resulted in value: 0.4332512137886331. Current best value is 0.4332512137886331 with parameters: {'max_bin': 427, 'num_leaves': 79}.\n",
      "/opt/conda/lib/python3.6/site-packages/lightgbm/basic.py:1243: UserWarning:\n",
      "\n",
      "Using categorical_feature in Dataset.\n",
      "\n"
     ]
    },
    {
     "name": "stdout",
     "output_type": "stream",
     "text": [
      "Training until validation scores don't improve for 10 rounds\n",
      "[10]\ttraining's binary_logloss: 0.505699\tvalid_1's binary_logloss: 0.532106\n",
      "[20]\ttraining's binary_logloss: 0.427825\tvalid_1's binary_logloss: 0.482279\n",
      "[30]\ttraining's binary_logloss: 0.377242\tvalid_1's binary_logloss: 0.456641\n",
      "[40]\ttraining's binary_logloss: 0.345424\tvalid_1's binary_logloss: 0.447083\n",
      "[50]\ttraining's binary_logloss: 0.323113\tvalid_1's binary_logloss: 0.440407\n",
      "[60]\ttraining's binary_logloss: 0.302727\tvalid_1's binary_logloss: 0.434527\n",
      "[70]\ttraining's binary_logloss: 0.285597\tvalid_1's binary_logloss: 0.434932\n",
      "Early stopping, best iteration is:\n",
      "[66]\ttraining's binary_logloss: 0.293072\tvalid_1's binary_logloss: 0.433251\n"
     ]
    },
    {
     "name": "stderr",
     "output_type": "stream",
     "text": [
      "[I 2020-04-30 02:32:01,317] Finished trial#34 resulted in value: 0.4332512137886331. Current best value is 0.4332512137886331 with parameters: {'max_bin': 427, 'num_leaves': 79}.\n",
      "/opt/conda/lib/python3.6/site-packages/lightgbm/basic.py:1243: UserWarning:\n",
      "\n",
      "Using categorical_feature in Dataset.\n",
      "\n"
     ]
    },
    {
     "name": "stdout",
     "output_type": "stream",
     "text": [
      "Training until validation scores don't improve for 10 rounds\n",
      "[10]\ttraining's binary_logloss: 0.505699\tvalid_1's binary_logloss: 0.532106\n",
      "[20]\ttraining's binary_logloss: 0.427825\tvalid_1's binary_logloss: 0.482279\n",
      "[30]\ttraining's binary_logloss: 0.377242\tvalid_1's binary_logloss: 0.456641\n",
      "[40]\ttraining's binary_logloss: 0.345424\tvalid_1's binary_logloss: 0.447083\n",
      "[50]\ttraining's binary_logloss: 0.323113\tvalid_1's binary_logloss: 0.440407\n",
      "[60]\ttraining's binary_logloss: 0.302727\tvalid_1's binary_logloss: 0.434527\n",
      "[70]\ttraining's binary_logloss: 0.285597\tvalid_1's binary_logloss: 0.434932\n",
      "Early stopping, best iteration is:\n",
      "[66]\ttraining's binary_logloss: 0.293072\tvalid_1's binary_logloss: 0.433251\n"
     ]
    },
    {
     "name": "stderr",
     "output_type": "stream",
     "text": [
      "[I 2020-04-30 02:32:01,841] Finished trial#35 resulted in value: 0.4332512137886331. Current best value is 0.4332512137886331 with parameters: {'max_bin': 427, 'num_leaves': 79}.\n",
      "/opt/conda/lib/python3.6/site-packages/lightgbm/basic.py:1243: UserWarning:\n",
      "\n",
      "Using categorical_feature in Dataset.\n",
      "\n"
     ]
    },
    {
     "name": "stdout",
     "output_type": "stream",
     "text": [
      "Training until validation scores don't improve for 10 rounds\n",
      "[10]\ttraining's binary_logloss: 0.505699\tvalid_1's binary_logloss: 0.532106\n",
      "[20]\ttraining's binary_logloss: 0.427825\tvalid_1's binary_logloss: 0.482279\n",
      "[30]\ttraining's binary_logloss: 0.377242\tvalid_1's binary_logloss: 0.456641\n",
      "[40]\ttraining's binary_logloss: 0.345424\tvalid_1's binary_logloss: 0.447083\n",
      "[50]\ttraining's binary_logloss: 0.323113\tvalid_1's binary_logloss: 0.440407\n",
      "[60]\ttraining's binary_logloss: 0.302727\tvalid_1's binary_logloss: 0.434527\n",
      "[70]\ttraining's binary_logloss: 0.285597\tvalid_1's binary_logloss: 0.434932\n",
      "Early stopping, best iteration is:\n",
      "[66]\ttraining's binary_logloss: 0.293072\tvalid_1's binary_logloss: 0.433251\n"
     ]
    },
    {
     "name": "stderr",
     "output_type": "stream",
     "text": [
      "[I 2020-04-30 02:32:02,373] Finished trial#36 resulted in value: 0.4332512137886331. Current best value is 0.4332512137886331 with parameters: {'max_bin': 427, 'num_leaves': 79}.\n",
      "/opt/conda/lib/python3.6/site-packages/lightgbm/basic.py:1243: UserWarning:\n",
      "\n",
      "Using categorical_feature in Dataset.\n",
      "\n"
     ]
    },
    {
     "name": "stdout",
     "output_type": "stream",
     "text": [
      "Training until validation scores don't improve for 10 rounds\n",
      "[10]\ttraining's binary_logloss: 0.505699\tvalid_1's binary_logloss: 0.532106\n",
      "[20]\ttraining's binary_logloss: 0.427825\tvalid_1's binary_logloss: 0.482279\n",
      "[30]\ttraining's binary_logloss: 0.377242\tvalid_1's binary_logloss: 0.456641\n",
      "[40]\ttraining's binary_logloss: 0.345424\tvalid_1's binary_logloss: 0.447083\n",
      "[50]\ttraining's binary_logloss: 0.323113\tvalid_1's binary_logloss: 0.440407\n",
      "[60]\ttraining's binary_logloss: 0.302727\tvalid_1's binary_logloss: 0.434527\n",
      "[70]\ttraining's binary_logloss: 0.285597\tvalid_1's binary_logloss: 0.434932\n",
      "Early stopping, best iteration is:\n",
      "[66]\ttraining's binary_logloss: 0.293072\tvalid_1's binary_logloss: 0.433251\n"
     ]
    },
    {
     "name": "stderr",
     "output_type": "stream",
     "text": [
      "[I 2020-04-30 02:32:03,166] Finished trial#37 resulted in value: 0.4332512137886331. Current best value is 0.4332512137886331 with parameters: {'max_bin': 427, 'num_leaves': 79}.\n",
      "/opt/conda/lib/python3.6/site-packages/lightgbm/basic.py:1243: UserWarning:\n",
      "\n",
      "Using categorical_feature in Dataset.\n",
      "\n"
     ]
    },
    {
     "name": "stdout",
     "output_type": "stream",
     "text": [
      "Training until validation scores don't improve for 10 rounds\n",
      "[10]\ttraining's binary_logloss: 0.505699\tvalid_1's binary_logloss: 0.532106\n",
      "[20]\ttraining's binary_logloss: 0.427825\tvalid_1's binary_logloss: 0.482279\n",
      "[30]\ttraining's binary_logloss: 0.377242\tvalid_1's binary_logloss: 0.456641\n",
      "[40]\ttraining's binary_logloss: 0.345424\tvalid_1's binary_logloss: 0.447083\n",
      "[50]\ttraining's binary_logloss: 0.323113\tvalid_1's binary_logloss: 0.440407\n",
      "[60]\ttraining's binary_logloss: 0.302727\tvalid_1's binary_logloss: 0.434527\n",
      "[70]\ttraining's binary_logloss: 0.285597\tvalid_1's binary_logloss: 0.434932\n",
      "Early stopping, best iteration is:\n",
      "[66]\ttraining's binary_logloss: 0.293072\tvalid_1's binary_logloss: 0.433251\n"
     ]
    },
    {
     "name": "stderr",
     "output_type": "stream",
     "text": [
      "[I 2020-04-30 02:32:03,574] Finished trial#38 resulted in value: 0.4332512137886331. Current best value is 0.4332512137886331 with parameters: {'max_bin': 427, 'num_leaves': 79}.\n",
      "/opt/conda/lib/python3.6/site-packages/lightgbm/basic.py:1243: UserWarning:\n",
      "\n",
      "Using categorical_feature in Dataset.\n",
      "\n"
     ]
    },
    {
     "name": "stdout",
     "output_type": "stream",
     "text": [
      "Training until validation scores don't improve for 10 rounds\n",
      "[10]\ttraining's binary_logloss: 0.505699\tvalid_1's binary_logloss: 0.532106\n",
      "[20]\ttraining's binary_logloss: 0.427825\tvalid_1's binary_logloss: 0.482279\n",
      "[30]\ttraining's binary_logloss: 0.377242\tvalid_1's binary_logloss: 0.456641\n",
      "[40]\ttraining's binary_logloss: 0.345424\tvalid_1's binary_logloss: 0.447083\n",
      "[50]\ttraining's binary_logloss: 0.323113\tvalid_1's binary_logloss: 0.440407\n",
      "[60]\ttraining's binary_logloss: 0.302727\tvalid_1's binary_logloss: 0.434527\n",
      "[70]\ttraining's binary_logloss: 0.285597\tvalid_1's binary_logloss: 0.434932\n",
      "Early stopping, best iteration is:\n",
      "[66]\ttraining's binary_logloss: 0.293072\tvalid_1's binary_logloss: 0.433251\n"
     ]
    },
    {
     "name": "stderr",
     "output_type": "stream",
     "text": [
      "[I 2020-04-30 02:32:03,992] Finished trial#39 resulted in value: 0.4332512137886331. Current best value is 0.4332512137886331 with parameters: {'max_bin': 427, 'num_leaves': 79}.\n"
     ]
    }
   ],
   "source": [
    "study = optuna.create_study(sampler=optuna.samplers.RandomSampler(seed=0))\n",
    "study.optimize(objective, n_trials=40)"
   ]
  },
  {
   "cell_type": "code",
   "execution_count": 22,
   "metadata": {},
   "outputs": [
    {
     "data": {
      "text/plain": [
       "{'max_bin': 427, 'num_leaves': 79}"
      ]
     },
     "execution_count": 22,
     "metadata": {},
     "output_type": "execute_result"
    }
   ],
   "source": [
    "study.best_params"
   ]
  },
  {
   "cell_type": "code",
   "execution_count": 23,
   "metadata": {},
   "outputs": [
    {
     "name": "stderr",
     "output_type": "stream",
     "text": [
      "/opt/conda/lib/python3.6/site-packages/lightgbm/basic.py:1243: UserWarning:\n",
      "\n",
      "Using categorical_feature in Dataset.\n",
      "\n"
     ]
    },
    {
     "name": "stdout",
     "output_type": "stream",
     "text": [
      "Training until validation scores don't improve for 10 rounds\n",
      "[10]\ttraining's binary_logloss: 0.505699\tvalid_1's binary_logloss: 0.532106\n",
      "[20]\ttraining's binary_logloss: 0.427825\tvalid_1's binary_logloss: 0.482279\n",
      "[30]\ttraining's binary_logloss: 0.377242\tvalid_1's binary_logloss: 0.456641\n",
      "[40]\ttraining's binary_logloss: 0.345424\tvalid_1's binary_logloss: 0.447083\n",
      "[50]\ttraining's binary_logloss: 0.323113\tvalid_1's binary_logloss: 0.440407\n",
      "[60]\ttraining's binary_logloss: 0.302727\tvalid_1's binary_logloss: 0.434527\n",
      "[70]\ttraining's binary_logloss: 0.285597\tvalid_1's binary_logloss: 0.434932\n",
      "Early stopping, best iteration is:\n",
      "[66]\ttraining's binary_logloss: 0.293072\tvalid_1's binary_logloss: 0.433251\n"
     ]
    }
   ],
   "source": [
    "params = {\n",
    "    'objective': 'binary',\n",
    "    'max_bin': study.best_params['max_bin'],\n",
    "    'learning_rate': 0.05,\n",
    "    'num_leaves': study.best_params['num_leaves']\n",
    "}\n",
    "\n",
    "lgb_train = lgb.Dataset(X_train, y_train,\n",
    "                                         categorical_feature=categorical_features)\n",
    "lgb_eval = lgb.Dataset(X_valid, y_valid, reference=lgb_train,\n",
    "                                         categorical_feature=categorical_features)\n",
    "\n",
    "model = lgb.train(params, lgb_train,\n",
    "                               valid_sets=[lgb_train, lgb_eval],\n",
    "                               verbose_eval=10,\n",
    "                               num_boost_round=1000,\n",
    "                               early_stopping_rounds=10)\n",
    "\n",
    "y_pred = model.predict(X_test, num_iteration=model.best_iteration)"
   ]
  },
  {
   "cell_type": "code",
   "execution_count": 25,
   "metadata": {
    "scrolled": true
   },
   "outputs": [],
   "source": [
    "y_pred = (y_pred > 0.5).astype(int)"
   ]
  },
  {
   "cell_type": "code",
   "execution_count": null,
   "metadata": {},
   "outputs": [],
   "source": []
  }
 ],
 "metadata": {
  "file_extension": ".py",
  "kernelspec": {
   "display_name": "Python 3",
   "language": "python",
   "name": "python3"
  },
  "language_info": {
   "codemirror_mode": {
    "name": "ipython",
    "version": 3
   },
   "file_extension": ".py",
   "mimetype": "text/x-python",
   "name": "python",
   "nbconvert_exporter": "python",
   "pygments_lexer": "ipython3",
   "version": "3.6.6"
  },
  "mimetype": "text/x-python",
  "name": "python",
  "npconvert_exporter": "python",
  "pygments_lexer": "ipython3",
  "version": 3
 },
 "nbformat": 4,
 "nbformat_minor": 2
}
